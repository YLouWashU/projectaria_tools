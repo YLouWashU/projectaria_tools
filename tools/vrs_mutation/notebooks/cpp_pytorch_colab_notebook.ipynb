{
  "cells": [
    {
      "cell_type": "code",
      "execution_count": null,
      "metadata": {
        "id": "3onHMIWY8Xmr"
      },
      "outputs": [],
      "source": [
        "!git clone https://github.com/facebookresearch/projectaria_tools.git"
      ]
    },
    {
      "cell_type": "code",
      "execution_count": null,
      "metadata": {
        "id": "ESX6w9Mf8eNM"
      },
      "outputs": [],
      "source": [
        "# go to website https://www.projectaria.com/tools/egoblur/ and get download link and replace in below command \"wget\"\n",
        "!mkdir -p models && \\\n",
        "    cd models && \\\n",
        "    wget -O models.zip \"https://scontent-sjc3-1.xx.fbcdn.net/m1/v/t6/An9Gye8sHa_luRahPIF3Iai4_d12EnL09IOFWMZ-OtFOUy1NCdoBfwSAXiCGGT-XpzJBwrMU3cAS0Td1kNslM2iElN_fPoTEdhUbQMhuKYgv4L4x3eyljtaKF_DuKlwAwECxVdwz9kk.zip/ego_blur_face.zip?sdl=1&ccb=10-5&oh=00_AfALF8b2HKNGDiCsuoGWyJA3uq8xVnAL069QyZ2Maops4g&oe=6574ABDB&_nc_sid=5cb19f\" && \\\n",
        "    unzip models"
      ]
    },
    {
      "cell_type": "code",
      "execution_count": null,
      "metadata": {
        "id": "IA4cQiR88lsc"
      },
      "outputs": [],
      "source": [
        "!wget https://github.com/Kitware/CMake/releases/download/v3.28.0-rc4/cmake-3.28.0-rc4-linux-x86_64.sh\n",
        "!chmod 777 cmake-3.28.0-rc4-linux-x86_64.sh\n",
        "!./cmake-3.28.0-rc4-linux-x86_64.sh --skip-license"
      ]
    },
    {
      "cell_type": "code",
      "execution_count": null,
      "metadata": {
        "id": "JZcnxpUL8piX"
      },
      "outputs": [],
      "source": [
        "! wget https://download.pytorch.org/libtorch/cu118/libtorch-cxx11-abi-shared-with-deps-2.1.0%2Bcu118.zip && \\\n",
        "    unzip libtorch-cxx11-abi-shared-with-deps-2.1.0+cu118.zip && \\\n",
        "    mv $(ls /content/libtorch/lib/libnvrtc-builtins* | head -n 1) /content/libtorch/lib/libnvrtc-builtins.so.11.8"
      ]
    },
    {
      "cell_type": "code",
      "execution_count": null,
      "metadata": {
        "id": "qGLWJ2pe8xB8"
      },
      "outputs": [],
      "source": [
        "! sudo apt-get install libfmt-dev libturbojpeg-dev libpng-dev && \\\n",
        "    sudo apt-get install liblz4-dev libzstd-dev libxxhash-dev && \\\n",
        "    sudo apt-get install libboost-system-dev libboost-filesystem-dev libboost-thread-dev libboost-chrono-dev libboost-date-time-dev"
      ]
    },
    {
      "cell_type": "code",
      "execution_count": null,
      "metadata": {
        "id": "Qp7znmto_5tb"
      },
      "outputs": [],
      "source": [
        "!git clone --branch v0.16.0 https://github.com/pytorch/vision/ && \\\n",
        "    mkdir vision/build && \\\n",
        "    cd vision/build && \\\n",
        "    /content/bin/cmake .. -DCMAKE_BUILD_TYPE=Release -DTORCH_CUDA_ARCH_LIST=$TORCH_CUDA_ARCH_LIST -DWITH_CUDA=on -DTorch_DIR=/content/libtorch/share/cmake/Torch && \\\n",
        "    make -j2 && \\\n",
        "    sudo make install"
      ]
    },
    {
      "cell_type": "code",
      "execution_count": null,
      "metadata": {
        "id": "ue-sgECFAcqW"
      },
      "outputs": [],
      "source": [
        "!cd projectaria_tools && \\\n",
        "    mkdir -p build && \\\n",
        "    cd build && \\\n",
        "    /content/bin/cmake .. -DPROJECTARIA_TOOLS_BUILD_TOOLS=ON -DPROJECTARIA_TOOLS_BUILD_EGOBLUR=ON -DTorch_DIR=/content/libtorch/share/cmake/Torch -DTorchVision_DIR=/content/vision/cmake && \\\n",
        "    make -j vrs_mutation"
      ]
    },
    {
      "cell_type": "code",
      "execution_count": null,
      "metadata": {
        "id": "g87yPvPrB15o"
      },
      "outputs": [],
      "source": [
        "! cd /content/projectaria_tools/build/tools/vrs_mutation && \\\n",
        "    ./vrs_mutation  --in /content/projectaria_tools/tools/vrs_mutation/data/egoblur_test.vrs --out /content/projectaria_tools/tools/vrs_mutation/data/egoblur_test_out.vrs -m EGOBLUR -f /content/models/ego_blur_face.jit --use-gpu"
      ]
    }
  ],
  "metadata": {
    "custom": {
      "cells": [],
      "metadata": {
        "custom": {
          "cells": [],
          "metadata": {
            "custom": {
              "cells": [],
              "metadata": {
                "custom": {
                  "cells": [],
                  "metadata": {
                    "custom": {
                      "cells": [],
                      "metadata": {
                        "accelerator": "GPU",
                        "colab": {
                          "private_outputs": true,
                          "provenance": []
                        },
                        "fileHeader": "",
                        "isAdHoc": false,
                        "kernelspec": {
                          "display_name": "Python 3",
                          "name": "python3"
                        }
                      },
                      "nbformat": 4,
                      "nbformat_minor": 0
                    },
                    "fileHeader": "",
                    "fileUid": "2f00e089-64f2-4a57-8fe8-721c411717ae",
                    "indentAmount": 2,
                    "isAdHoc": false,
                    "language_info": {
                      "name": "plaintext"
                    }
                  },
                  "nbformat": 4,
                  "nbformat_minor": 2
                },
                "fileHeader": "",
                "fileUid": "31e61587-da40-4b6c-90bb-911b8862190b",
                "indentAmount": 2,
                "isAdHoc": false,
                "language_info": {
                  "name": "plaintext"
                }
              },
              "nbformat": 4,
              "nbformat_minor": 2
            },
            "fileHeader": "",
            "fileUid": "394bb1b9-cfd0-4dd6-a239-863fecdab8c1",
            "indentAmount": 2,
            "isAdHoc": false,
            "language_info": {
              "name": "plaintext"
            }
          },
          "nbformat": 4,
          "nbformat_minor": 2
        },
        "fileHeader": "",
        "fileUid": "4bebeb6a-2912-4130-ab3e-ab0f11130ef9",
        "indentAmount": 2,
        "isAdHoc": false,
        "language_info": {
          "name": "plaintext"
        }
      },
      "nbformat": 4,
      "nbformat_minor": 2
    },
    "indentAmount": 2
  },
  "nbformat": 4,
  "nbformat_minor": 2
}
